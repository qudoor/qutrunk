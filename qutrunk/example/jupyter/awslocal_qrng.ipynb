{
 "cells": [
  {
   "cell_type": "markdown",
   "source": [
    "准备环境"
   ],
   "metadata": {
    "collapsed": false
   }
  },
  {
   "cell_type": "code",
   "execution_count": 1,
   "outputs": [],
   "source": [
    "import numpy as np\n",
    "\n",
    "from qutrunk.backends import BackendQuSaas\n",
    "from qutrunk.backends.braket import BackendAWSLocal\n",
    "from qutrunk.circuit import QCircuit\n",
    "from qutrunk.circuit.gates import H, CNOT, All, Measure"
   ],
   "metadata": {
    "collapsed": false
   }
  },
  {
   "cell_type": "markdown",
   "source": [
    "调用Saas后端生成真随机数"
   ],
   "metadata": {
    "collapsed": false
   }
  },
  {
   "cell_type": "code",
   "execution_count": 2,
   "outputs": [
    {
     "name": "stdout",
     "output_type": "stream",
     "text": [
      "[b's\\xf8Ix']\n"
     ]
    }
   ],
   "source": [
    "BYTE_LEN4INT = 4\n",
    "ak = \"BNwHKbBIkVT8DSfDlWnZl4rosB7Ie7hhvDvRehyz\"\n",
    "sk = \"V2ZfqQJPiaCQhrzAeIIZjNilBrTdqQEujkqXrUP3MtYt1vPCbBo47e8gwRjJcJlaXNJSParPOudhaX8WesvfXSAeb1yYfvC6gbElHoNoH7ali4jLvuxI87v3NCjPMCmu\"\n",
    "saas_be = BackendQuSaas(ak, sk)\n",
    "rand_bytes = saas_be.get_rand(BYTE_LEN4INT, 1)\n",
    "print(rand_bytes)"
   ],
   "metadata": {
    "collapsed": false
   }
  },
  {
   "cell_type": "markdown",
   "source": [
    "将随机字节序列转换成int"
   ],
   "metadata": {
    "collapsed": false
   }
  },
  {
   "cell_type": "code",
   "execution_count": 3,
   "outputs": [
    {
     "name": "stdout",
     "output_type": "stream",
     "text": [
      "1945651576\n"
     ]
    }
   ],
   "source": [
    "rand_int = int.from_bytes(rand_bytes[0], byteorder='big')\n",
    "print(rand_int)"
   ],
   "metadata": {
    "collapsed": false
   }
  },
  {
   "cell_type": "markdown",
   "source": [
    "aws本地模拟使用numpy实现，将生成的随机数用于aws本地后端的模拟"
   ],
   "metadata": {
    "collapsed": false
   }
  },
  {
   "cell_type": "code",
   "execution_count": 4,
   "outputs": [],
   "source": [
    "np.random.seed(rand_int)"
   ],
   "metadata": {
    "collapsed": false
   }
  },
  {
   "cell_type": "markdown",
   "source": [
    "用aws本地后端运行贝尔线路"
   ],
   "metadata": {
    "collapsed": false
   }
  },
  {
   "cell_type": "code",
   "execution_count": 5,
   "outputs": [
    {
     "name": "stdout",
     "output_type": "stream",
     "text": [
      "OPENQASM 2.0;\n",
      "include \"qulib1.inc\";\n",
      "qreg q[2];\n",
      "creg c[2];\n",
      "h q[0];\n",
      "cx q[0],q[1];\n",
      "measure q[0] -> c[0];\n",
      "measure q[1] -> c[1];\n",
      "[{\"11\": 519}, {\"00\": 505}]\n"
     ]
    }
   ],
   "source": [
    "qc = QCircuit(backend=BackendAWSLocal())\n",
    "qr = qc.allocate(2)\n",
    "\n",
    "# Apply quantum gate\n",
    "H * qr[0]\n",
    "CNOT * (qr[0], qr[1])\n",
    "\n",
    "# Measure all quantum qubits\n",
    "All(Measure) * qr\n",
    "\n",
    "# Print quantum circuit as operqasm grammar\n",
    "qc.print(format=\"openqasm\")\n",
    "\n",
    "# Run quantum circuit\n",
    "res = qc.run(1024)\n",
    "print(res.get_counts())"
   ],
   "metadata": {
    "collapsed": false
   }
  }
 ],
 "metadata": {
  "kernelspec": {
   "display_name": "Python 3",
   "language": "python",
   "name": "python3"
  },
  "language_info": {
   "codemirror_mode": {
    "name": "ipython",
    "version": 2
   },
   "file_extension": ".py",
   "mimetype": "text/x-python",
   "name": "python",
   "nbconvert_exporter": "python",
   "pygments_lexer": "ipython2",
   "version": "2.7.6"
  }
 },
 "nbformat": 4,
 "nbformat_minor": 0
}
