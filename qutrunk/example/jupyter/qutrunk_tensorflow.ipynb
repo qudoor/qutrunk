{
 "cells": [
  {
   "cell_type": "markdown",
   "source": [
    "准备环境"
   ],
   "metadata": {
    "collapsed": false
   }
  },
  {
   "cell_type": "code",
   "execution_count": 1,
   "outputs": [],
   "source": [
    "import random\n",
    "\n",
    "import numpy as np\n",
    "import tensorflow as tf\n",
    "from matplotlib import pyplot as plt\n",
    "\n",
    "from qutrunk.circuit import QCircuit\n",
    "from qutrunk.circuit.gates import Rx, Ry, Rz, PauliZ"
   ],
   "metadata": {
    "collapsed": false
   }
  },
  {
   "cell_type": "markdown",
   "source": [
    "定义线路相关函数"
   ],
   "metadata": {
    "collapsed": false
   }
  },
  {
   "cell_type": "code",
   "execution_count": 2,
   "outputs": [],
   "source": [
    "def datapoint_circuit(rotations):\n",
    "    alpha0, alpha1, alpha2 = [float(f) for f in rotations]\n",
    "    circuit = QCircuit()\n",
    "    qreg = circuit.allocate(1)\n",
    "    Rx(alpha0) * qreg[0]\n",
    "    Ry(alpha1) * qreg[0]\n",
    "    Rz(alpha2) * qreg[0]\n",
    "    return circuit\n",
    "\n",
    "\n",
    "def model_circuit():\n",
    "    circuit = QCircuit()\n",
    "    q = circuit.allocate(1)\n",
    "    angles = [\"theta-0\", \"theta-1\", \"theta-2\"]\n",
    "    params = circuit.create_parameters(angles)\n",
    "\n",
    "    Rz(params[0]) * q[0]\n",
    "    Ry(params[1]) * q[0]\n",
    "    Rx(params[2]) * q[0]\n",
    "\n",
    "    return circuit\n",
    "\n",
    "\n",
    "def expectation():\n",
    "    circuit = QCircuit()\n",
    "    qreg = circuit.allocate(1)\n",
    "    return PauliZ(qreg[0])\n",
    "\n",
    "\n",
    "def join_circuit(datapoint_cir, model_cir, inputs):\n",
    "    params = {\"theta-\" + str(i): inputs[i] for i in range(len(inputs))}\n",
    "    model_cir = model_cir.bind_parameters(params)\n",
    "    datapoint_cir.append_circuit(model_cir)\n",
    "    return datapoint_cir"
   ],
   "metadata": {
    "collapsed": false
   }
  },
  {
   "cell_type": "markdown",
   "source": [
    "定义梯度计算类"
   ],
   "metadata": {
    "collapsed": false
   }
  },
  {
   "cell_type": "markdown",
   "source": [],
   "metadata": {
    "collapsed": false
   }
  },
  {
   "cell_type": "code",
   "execution_count": 3,
   "outputs": [],
   "source": [
    "class CustomGradientTape:\n",
    "    def __init__(self, inputs, exp_op, shift=np.pi / 2):\n",
    "        self.inputs = inputs\n",
    "        self.exp_op = exp_op\n",
    "        self.shift = shift\n",
    "\n",
    "    def gradient(self, loss, var_list):\n",
    "        params = [var.numpy() for var in var_list]\n",
    "\n",
    "        gradients = []\n",
    "        for i in range(len(params)):\n",
    "            shift_right = np.copy(params)\n",
    "            shift_right[i] += self.shift\n",
    "            shift_left = np.copy(params)\n",
    "            shift_left[i] -= self.shift\n",
    "\n",
    "            circuit = join_circuit(datapoint_circuit(self.inputs), model_circuit(), shift_right)\n",
    "            expectation_right = -1 * circuit.expval_pauli(self.exp_op)\n",
    "\n",
    "            circuit = join_circuit(datapoint_circuit(self.inputs), model_circuit(), shift_left)\n",
    "            expectation_left = -1 * circuit.expval_pauli(self.exp_op)\n",
    "\n",
    "            gradient = expectation_right - expectation_left\n",
    "            gradients.append(tf.convert_to_tensor(gradient, dtype=tf.float32))\n",
    "        return gradients"
   ],
   "metadata": {
    "collapsed": false
   }
  },
  {
   "cell_type": "markdown",
   "source": [
    "自定义层"
   ],
   "metadata": {
    "collapsed": false
   }
  },
  {
   "cell_type": "code",
   "execution_count": 4,
   "outputs": [],
   "source": [
    "class ControlledPQC(tf.keras.layers.Layer):\n",
    "\n",
    "    def __init__(self, optimizer, exp_op, var_list, grad):\n",
    "        super(ControlledPQC, self).__init__()\n",
    "        self.optimizer = optimizer\n",
    "        self.exp_op = exp_op\n",
    "        self.var_list = var_list\n",
    "\n",
    "        self.grad = grad\n",
    "\n",
    "    def call(self, inputs):\n",
    "        params_list = [var.numpy() for var in self.var_list]\n",
    "        circuit = join_circuit(datapoint_circuit(inputs), model_circuit(), params_list)\n",
    "        loss = -1 * circuit.expval_pauli(self.exp_op)\n",
    "        self.optimizer.minimize(loss, self.var_list, self.grad)\n",
    "\n",
    "        return loss"
   ],
   "metadata": {
    "collapsed": false
   }
  },
  {
   "cell_type": "markdown",
   "source": [
    "运行模型"
   ],
   "metadata": {
    "collapsed": false
   }
  },
  {
   "cell_type": "code",
   "execution_count": 9,
   "outputs": [
    {
     "name": "stdout",
     "output_type": "stream",
     "text": [
      "0: -0.7065\n",
      "10: -0.9348\n",
      "20: -0.9986\n",
      "30: -0.9928\n",
      "40: -0.9974\n",
      "50: -0.9997\n",
      "60: -0.9996\n",
      "70: -0.9999\n",
      "80: -1.0000\n",
      "90: -1.0000\n",
      "100: -1.0000\n",
      "110: -1.0000\n",
      "120: -1.0000\n",
      "130: -1.0000\n",
      "140: -1.0000\n",
      "150: -1.0000\n",
      "160: -1.0000\n",
      "170: -1.0000\n",
      "180: -1.0000\n",
      "190: -1.0000\n"
     ]
    }
   ],
   "source": [
    "ITR = 200\n",
    "LR = 0.02\n",
    "rand = random.Random()\n",
    "random_rotations = tf.convert_to_tensor(np.random.uniform(0, 2 * np.pi, 3))\n",
    "op = expectation()\n",
    "\n",
    "opt = tf.keras.optimizers.Adam(learning_rate=LR)\n",
    "\n",
    "control_params = [tf.Variable(rand.uniform(0, 2 * np.pi)) for _ in range(3)]\n",
    "model = ControlledPQC(opt, op, control_params, CustomGradientTape(random_rotations, op))\n",
    "\n",
    "loss_list = []\n",
    "for it in range(ITR):\n",
    "    ls = model(random_rotations)\n",
    "    loss_list.append(ls)\n",
    "    if it % 10 == 0:\n",
    "        print(f\"{it}: {ls:.4f}\")\n"
   ],
   "metadata": {
    "collapsed": false
   }
  },
  {
   "cell_type": "markdown",
   "source": [
    "展示结果"
   ],
   "metadata": {
    "collapsed": false
   }
  },
  {
   "cell_type": "code",
   "execution_count": 6,
   "outputs": [
    {
     "data": {
      "text/plain": "Text(0, 0.5, 'loss')"
     },
     "execution_count": 6,
     "metadata": {},
     "output_type": "execute_result"
    },
    {
     "data": {
      "text/plain": "<Figure size 640x480 with 1 Axes>",
      "image/png": "[encoded data removed]"
     },
     "metadata": {},
     "output_type": "display_data"
    }
   ],
   "source": [
    "plt.plot(loss_list)\n",
    "plt.title(\"Learning to Control a Qubit\")\n",
    "plt.xlabel(\"Iterations\")\n",
    "plt.ylabel(\"loss\")"
   ],
   "metadata": {
    "collapsed": false
   }
  }
 ],
 "metadata": {
  "kernelspec": {
   "display_name": "Python 3",
   "language": "python",
   "name": "python3"
  },
  "language_info": {
   "codemirror_mode": {
    "name": "ipython",
    "version": 2
   },
   "file_extension": ".py",
   "mimetype": "text/x-python",
   "name": "python",
   "nbconvert_exporter": "python",
   "pygments_lexer": "ipython2",
   "version": "2.7.6"
  }
 },
 "nbformat": 4,
 "nbformat_minor": 0
}
