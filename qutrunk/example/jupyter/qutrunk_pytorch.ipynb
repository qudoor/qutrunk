{
 "cells": [
  {
   "cell_type": "markdown",
   "id": "2880f0b5",
   "metadata": {},
   "source": [
    "#  量子神经网络"
   ]
  },
  {
   "cell_type": "markdown",
   "id": "614aef88",
   "metadata": {},
   "source": [
    "##  一 环境准备"
   ]
  },
  {
   "cell_type": "markdown",
   "id": "ee83b418",
   "metadata": {},
   "source": [
    "请安装如下库：<br />\n",
    "qutrunk 0.1.15 <br />\n",
    "torch 1.13.0+cu116 <br />\n",
    "torchvision 0.14.0 <br />\n",
    "torchaudio 0.13.0"
   ]
  },
  {
   "cell_type": "markdown",
   "id": "4732af2b",
   "metadata": {},
   "source": [
    "## 二 使用QuTrunk创建量子电路"
   ]
  },
  {
   "cell_type": "code",
   "execution_count": 1,
   "id": "4befa055",
   "metadata": {},
   "outputs": [],
   "source": [
    "import numpy as np\n",
    "import json\n",
    "\n",
    "from qutrunk.circuit import QCircuit\n",
    "from qutrunk.circuit.gates import H, Ry, Measure, Barrier\n",
    "\n",
    "\n",
    "class QuantumCircuit:\n",
    "\n",
    "    def __init__(self, shots=100):\n",
    "        self.shots = shots\n",
    "\n",
    "    def _new_circuit(self, theta):\n",
    "        # Create quantum circuit\n",
    "        self._circuit = QCircuit()\n",
    "        # Allocate quantum qubits\n",
    "        qr = self._circuit.allocate(1)\n",
    "        # apply gates\n",
    "        H * qr[0]\n",
    "        Barrier * qr\n",
    "        Ry(theta) * qr[0]\n",
    "        # measure\n",
    "        Measure * qr[0]\n",
    "\n",
    "    def run(self, theta):\n",
    "        self._new_circuit(theta)\n",
    "\n",
    "        result = self._circuit.run(shots=self.shots)\n",
    "        result = result.get_counts()\n",
    "        result = json.loads(result)\n",
    "\n",
    "        counts = []\n",
    "        states = []\n",
    "        for r in result:\n",
    "            for key, value in r.items():\n",
    "                states.append(int(key, base=2))\n",
    "                counts.append(value)\n",
    "\n",
    "        states = np.array(states).astype(float)\n",
    "        counts = np.array(counts)\n",
    "\n",
    "        # Compute probabilities for each state\n",
    "        probabilities = counts / self.shots\n",
    "        # Get state expectation\n",
    "        expectation = np.sum(states * probabilities)\n",
    "\n",
    "        return np.array([expectation])\n"
   ]
  },
  {
   "cell_type": "code",
   "execution_count": 2,
   "id": "0dfc3395",
   "metadata": {},
   "outputs": [
    {
     "name": "stdout",
     "output_type": "stream",
     "text": [
      "Expected value for rotation pi= 0.51\n"
     ]
    }
   ],
   "source": [
    "circuit = QuantumCircuit()\n",
    "print(f'Expected value for rotation pi= {circuit.run(np.pi)[0]}')"
   ]
  },
  {
   "cell_type": "markdown",
   "id": "165b32e6",
   "metadata": {},
   "source": [
    "## 三 加载训练数据集和测试数据集"
   ]
  },
  {
   "cell_type": "code",
   "execution_count": 3,
   "id": "9e17241f",
   "metadata": {},
   "outputs": [],
   "source": [
    "import numpy as np\n",
    "import torch\n",
    "from torchvision import datasets, transforms\n",
    "import matplotlib.pyplot as plt"
   ]
  },
  {
   "cell_type": "code",
   "execution_count": 4,
   "id": "5ae8e2f4",
   "metadata": {},
   "outputs": [
    {
     "name": "stdout",
     "output_type": "stream",
     "text": [
      "Downloading http://yann.lecun.com/exdb/mnist/train-images-idx3-ubyte.gz\n",
      "Downloading http://yann.lecun.com/exdb/mnist/train-images-idx3-ubyte.gz to ./data\\MNIST\\raw\\train-images-idx3-ubyte.gz\n"
     ]
    },
    {
     "name": "stderr",
     "output_type": "stream",
     "text": [
      "100.0%\n"
     ]
    },
    {
     "name": "stdout",
     "output_type": "stream",
     "text": [
      "Extracting ./data\\MNIST\\raw\\train-images-idx3-ubyte.gz to ./data\\MNIST\\raw\n",
      "\n",
      "Downloading http://yann.lecun.com/exdb/mnist/train-labels-idx1-ubyte.gz\n",
      "Downloading http://yann.lecun.com/exdb/mnist/train-labels-idx1-ubyte.gz to ./data\\MNIST\\raw\\train-labels-idx1-ubyte.gz\n"
     ]
    },
    {
     "name": "stderr",
     "output_type": "stream",
     "text": [
      "100.0%\n"
     ]
    },
    {
     "name": "stdout",
     "output_type": "stream",
     "text": [
      "Extracting ./data\\MNIST\\raw\\train-labels-idx1-ubyte.gz to ./data\\MNIST\\raw\n",
      "\n",
      "Downloading http://yann.lecun.com/exdb/mnist/t10k-images-idx3-ubyte.gz\n",
      "Downloading http://yann.lecun.com/exdb/mnist/t10k-images-idx3-ubyte.gz to ./data\\MNIST\\raw\\t10k-images-idx3-ubyte.gz\n"
     ]
    },
    {
     "name": "stderr",
     "output_type": "stream",
     "text": [
      "100.0%\n"
     ]
    },
    {
     "name": "stdout",
     "output_type": "stream",
     "text": [
      "Extracting ./data\\MNIST\\raw\\t10k-images-idx3-ubyte.gz to ./data\\MNIST\\raw\n",
      "\n",
      "Downloading http://yann.lecun.com/exdb/mnist/t10k-labels-idx1-ubyte.gz\n",
      "Downloading http://yann.lecun.com/exdb/mnist/t10k-labels-idx1-ubyte.gz to ./data\\MNIST\\raw\\t10k-labels-idx1-ubyte.gz\n"
     ]
    },
    {
     "name": "stderr",
     "output_type": "stream",
     "text": [
      "\r",
      "100.0%"
     ]
    },
    {
     "name": "stdout",
     "output_type": "stream",
     "text": [
      "Extracting ./data\\MNIST\\raw\\t10k-labels-idx1-ubyte.gz to ./data\\MNIST\\raw\n",
      "\n"
     ]
    },
    {
     "name": "stderr",
     "output_type": "stream",
     "text": [
      "\n"
     ]
    }
   ],
   "source": [
    "# train dataset\n",
    "# Concentrating on the first 100 samples\n",
    "n_samples = 100\n",
    "\n",
    "X_train = datasets.MNIST(root='./data', train=True, download=True,\n",
    "                         transform=transforms.Compose([transforms.ToTensor()]))\n",
    "\n",
    "# Leaving only labels 0 and 1\n",
    "idx = np.append(np.where(X_train.targets == 0)[0][:n_samples],\n",
    "                np.where(X_train.targets == 1)[0][:n_samples])\n",
    "\n",
    "X_train.data = X_train.data[idx]\n",
    "X_train.targets = X_train.targets[idx]\n",
    "\n",
    "train_loader = torch.utils.data.DataLoader(X_train, batch_size=1, shuffle=True)"
   ]
  },
  {
   "cell_type": "code",
   "execution_count": 5,
   "id": "5a37303d",
   "metadata": {},
   "outputs": [],
   "source": [
    "# test dataset\n",
    "n_samples = 50\n",
    "\n",
    "X_test = datasets.MNIST(root='./data', train=False, download=True,\n",
    "                        transform=transforms.Compose([transforms.ToTensor()]))\n",
    "\n",
    "idx = np.append(np.where(X_test.targets == 0)[0][:n_samples],\n",
    "                np.where(X_test.targets == 1)[0][:n_samples])\n",
    "\n",
    "X_test.data = X_test.data[idx]\n",
    "X_test.targets = X_test.targets[idx]\n",
    "\n",
    "test_loader = torch.utils.data.DataLoader(X_test, batch_size=1, shuffle=True)"
   ]
  },
  {
   "cell_type": "code",
   "execution_count": 6,
   "id": "bfe6a19c",
   "metadata": {},
   "outputs": [],
   "source": [
    "def show_data():\n",
    "    n_samples_show = 6\n",
    "\n",
    "    data_iter = iter(train_loader)\n",
    "    fig, axes = plt.subplots(nrows=1, ncols=n_samples_show, figsize=(10, 3))\n",
    "\n",
    "    while n_samples_show > 0:\n",
    "        images, targets = data_iter.__next__()\n",
    "\n",
    "        axes[n_samples_show - 1].imshow(images[0].numpy().squeeze(), cmap='gray')\n",
    "        axes[n_samples_show - 1].set_xticks([])\n",
    "        axes[n_samples_show - 1].set_yticks([])\n",
    "        axes[n_samples_show - 1].set_title(\"Labeled: {}\".format(targets.item()))\n",
    "\n",
    "        n_samples_show -= 1\n"
   ]
  },
  {
   "cell_type": "code",
   "execution_count": 8,
   "id": "5bc9cb83",
   "metadata": {},
   "outputs": [
    {
     "data": {
      "image/png": "[encoded data removed]",
      "text/plain": [
       "<Figure size 1000x300 with 6 Axes>"
      ]
     },
     "metadata": {},
     "output_type": "display_data"
    }
   ],
   "source": [
    "# show data\n",
    "show_data()"
   ]
  },
  {
   "cell_type": "code",
   "execution_count": null,
   "id": "31eaadc2",
   "metadata": {},
   "outputs": [],
   "source": []
  }
 ],
 "metadata": {
  "kernelspec": {
   "display_name": "projects-jupyter-7b7mpfar-py3.9",
   "language": "python",
   "name": "projects-jupyter-7b7mpfar-py3.9"
  },
  "language_info": {
   "codemirror_mode": {
    "name": "ipython",
    "version": 3
   },
   "file_extension": ".py",
   "mimetype": "text/x-python",
   "name": "python",
   "nbconvert_exporter": "python",
   "pygments_lexer": "ipython3",
   "version": "3.9.12"
  }
 },
 "nbformat": 4,
 "nbformat_minor": 5
}
