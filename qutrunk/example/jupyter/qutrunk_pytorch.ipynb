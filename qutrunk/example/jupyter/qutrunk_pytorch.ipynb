{
 "cells": [
  {
   "cell_type": "markdown",
   "id": "2880f0b5",
   "metadata": {},
   "source": [
    "#  量子神经网络"
   ]
  },
  {
   "cell_type": "markdown",
   "id": "614aef88",
   "metadata": {},
   "source": [
    "##  一 环境准备"
   ]
  },
  {
   "cell_type": "markdown",
   "id": "ee83b418",
   "metadata": {},
   "source": [
    "请安装如下库：<br />\n",
    "qutrunk 0.1.15 <br />\n",
    "torch 1.13.0+cu116 <br />\n",
    "torchvision 0.14.0 <br />\n",
    "torchaudio 0.13.0"
   ]
  },
  {
   "cell_type": "markdown",
   "id": "4732af2b",
   "metadata": {},
   "source": [
    "## 二 使用QuTrunk创建量子电路"
   ]
  },
  {
   "cell_type": "code",
   "execution_count": 1,
   "id": "4befa055",
   "metadata": {
    "pycharm": {
     "name": "#%%\n"
    }
   },
   "outputs": [],
   "source": [
    "import numpy as np\n",
    "import json\n",
    "\n",
    "from qutrunk.circuit import QCircuit\n",
    "from qutrunk.circuit.gates import H, Ry, Measure, Barrier\n",
    "\n",
    "\n",
    "class QuantumCircuit:\n",
    "\n",
    "    def __init__(self, shots=100):\n",
    "        self.shots = shots\n",
    "\n",
    "    def _new_circuit(self, theta):\n",
    "        # Create quantum circuit\n",
    "        self._circuit = QCircuit()\n",
    "        # Allocate quantum qubits\n",
    "        qr = self._circuit.allocate(1)\n",
    "        # apply gates\n",
    "        H * qr[0]\n",
    "        Barrier * qr\n",
    "        Ry(theta) * qr[0]\n",
    "        # measure\n",
    "        Measure * qr[0]\n",
    "\n",
    "    def run(self, theta):\n",
    "        self._new_circuit(theta)\n",
    "\n",
    "        result = self._circuit.run(shots=self.shots)\n",
    "        result = result.get_counts()\n",
    "        result = json.loads(result)\n",
    "\n",
    "        counts = []\n",
    "        states = []\n",
    "        for r in result:\n",
    "            for key, value in r.items():\n",
    "                states.append(int(key, base=2))\n",
    "                counts.append(value)\n",
    "\n",
    "        states = np.array(states).astype(float)\n",
    "        counts = np.array(counts)\n",
    "\n",
    "        # Compute probabilities for each state\n",
    "        probabilities = counts / self.shots\n",
    "        # Get state expectation\n",
    "        expectation = np.sum(states * probabilities)\n",
    "\n",
    "        return np.array([expectation])\n"
   ]
  },
  {
   "cell_type": "code",
   "execution_count": 2,
   "id": "0dfc3395",
   "metadata": {
    "pycharm": {
     "name": "#%%\n"
    }
   },
   "outputs": [
    {
     "name": "stdout",
     "output_type": "stream",
     "text": [
      "Expected value for rotation pi= 0.55\n"
     ]
    }
   ],
   "source": [
    "circuit = QuantumCircuit()\n",
    "print(f'Expected value for rotation pi= {circuit.run(np.pi)[0]}')"
   ]
  },
  {
   "cell_type": "markdown",
   "id": "165b32e6",
   "metadata": {
    "pycharm": {
     "name": "#%% md\n"
    }
   },
   "source": [
    "## 三 加载训练数据集和测试数据集"
   ]
  },
  {
   "cell_type": "code",
   "execution_count": 3,
   "id": "9e17241f",
   "metadata": {
    "pycharm": {
     "name": "#%%\n"
    }
   },
   "outputs": [],
   "source": [
    "import numpy as np\n",
    "import torch\n",
    "from torchvision import datasets, transforms\n",
    "import matplotlib.pyplot as plt"
   ]
  },
  {
   "cell_type": "code",
   "execution_count": 4,
   "id": "5ae8e2f4",
   "metadata": {
    "pycharm": {
     "name": "#%%\n"
    }
   },
   "outputs": [],
   "source": [
    "# train dataset\n",
    "# Concentrating on the first 100 samples\n",
    "n_samples = 100\n",
    "\n",
    "X_train = datasets.MNIST(root='./data', train=True, download=True,\n",
    "                         transform=transforms.Compose([transforms.ToTensor()]))\n",
    "\n",
    "# Leaving only labels 0 and 1\n",
    "idx = np.append(np.where(X_train.targets == 0)[0][:n_samples],\n",
    "                np.where(X_train.targets == 1)[0][:n_samples])\n",
    "\n",
    "X_train.data = X_train.data[idx]\n",
    "X_train.targets = X_train.targets[idx]\n",
    "\n",
    "train_loader = torch.utils.data.DataLoader(X_train, batch_size=1, shuffle=True)"
   ]
  },
  {
   "cell_type": "code",
   "execution_count": 5,
   "id": "5a37303d",
   "metadata": {
    "pycharm": {
     "name": "#%%\n"
    }
   },
   "outputs": [],
   "source": [
    "# test dataset\n",
    "n_samples = 50\n",
    "\n",
    "X_test = datasets.MNIST(root='./data', train=False, download=True,\n",
    "                        transform=transforms.Compose([transforms.ToTensor()]))\n",
    "\n",
    "idx = np.append(np.where(X_test.targets == 0)[0][:n_samples],\n",
    "                np.where(X_test.targets == 1)[0][:n_samples])\n",
    "\n",
    "X_test.data = X_test.data[idx]\n",
    "X_test.targets = X_test.targets[idx]\n",
    "\n",
    "test_loader = torch.utils.data.DataLoader(X_test, batch_size=1, shuffle=True)"
   ]
  },
  {
   "cell_type": "code",
   "execution_count": 6,
   "id": "bfe6a19c",
   "metadata": {
    "pycharm": {
     "name": "#%%\n"
    }
   },
   "outputs": [],
   "source": [
    "def show_data():\n",
    "    n_samples_show = 6\n",
    "\n",
    "    data_iter = iter(train_loader)\n",
    "    fig, axes = plt.subplots(nrows=1, ncols=n_samples_show, figsize=(10, 3))\n",
    "\n",
    "    while n_samples_show > 0:\n",
    "        images, targets = data_iter.__next__()\n",
    "\n",
    "        axes[n_samples_show - 1].imshow(images[0].numpy().squeeze(), cmap='gray')\n",
    "        axes[n_samples_show - 1].set_xticks([])\n",
    "        axes[n_samples_show - 1].set_yticks([])\n",
    "        axes[n_samples_show - 1].set_title(\"Labeled: {}\".format(targets.item()))\n",
    "\n",
    "        n_samples_show -= 1\n"
   ]
  },
  {
   "cell_type": "code",
   "execution_count": 7,
   "id": "5bc9cb83",
   "metadata": {
    "pycharm": {
     "name": "#%%\n"
    }
   },
   "outputs": [
    {
     "data": {
      "image/png": "[encoded data removed]",
      "text/plain": [
       "<Figure size 1000x300 with 6 Axes>"
      ]
     },
     "metadata": {},
     "output_type": "display_data"
    }
   ],
   "source": [
    "# show data\n",
    "show_data()"
   ]
  },
  {
   "cell_type": "markdown",
   "id": "598519c7",
   "metadata": {
    "pycharm": {
     "name": "#%% md\n"
    }
   },
   "source": [
    "## 四 混合量子-经典神经层"
   ]
  },
  {
   "cell_type": "code",
   "execution_count": 8,
   "id": "bb2f8f1b",
   "metadata": {
    "pycharm": {
     "name": "#%%\n"
    }
   },
   "outputs": [],
   "source": [
    "import numpy as np\n",
    "import torch\n",
    "from torch.autograd import Function\n",
    "import torch.nn as nn\n",
    "import torch.nn.functional as F"
   ]
  },
  {
   "cell_type": "code",
   "execution_count": 9,
   "id": "30c55d90",
   "metadata": {
    "pycharm": {
     "name": "#%%\n"
    }
   },
   "outputs": [],
   "source": [
    "class HybridFunction(Function):\n",
    "    \"\"\" Hybrid quantum - classical function definition \"\"\"\n",
    "\n",
    "    @staticmethod\n",
    "    def forward(ctx, input, quantum_circuit, shift):\n",
    "        \"\"\" Forward pass computation \"\"\"\n",
    "        ctx.shift = shift\n",
    "        ctx.quantum_circuit = quantum_circuit\n",
    "        expectation_z = ctx.quantum_circuit.run(input[0].tolist()[0])\n",
    "        result = torch.tensor([expectation_z])\n",
    "        ctx.save_for_backward(input, result)\n",
    "\n",
    "        return result\n",
    "\n",
    "    @staticmethod\n",
    "    def backward(ctx, grad_output):\n",
    "        \"\"\" Backward pass computation \"\"\"\n",
    "        input, expectation_z = ctx.saved_tensors\n",
    "        input_list = np.array(input.tolist())\n",
    "\n",
    "        shift_right = input_list + np.ones(input_list.shape) * ctx.shift\n",
    "        shift_left = input_list - np.ones(input_list.shape) * ctx.shift\n",
    "\n",
    "        gradients = []\n",
    "        for i in range(len(input_list)):\n",
    "            expectation_right = ctx.quantum_circuit.run(shift_right[i][0])\n",
    "            expectation_left = ctx.quantum_circuit.run(shift_left[i][0])\n",
    "            gradient = torch.tensor([expectation_right]) - torch.tensor([expectation_left])\n",
    "            gradients.append(gradient)\n",
    "        gradients = np.array([gradients]).T\n",
    "        return torch.tensor([gradients]).float() * grad_output.float(), None, None\n"
   ]
  },
  {
   "cell_type": "code",
   "execution_count": 10,
   "id": "10a2b5b0",
   "metadata": {},
   "outputs": [],
   "source": [
    "class Hybrid(nn.Module):\n",
    "    \"\"\" Hybrid quantum - classical layer definition \"\"\"\n",
    "\n",
    "    def __init__(self, shift):\n",
    "        super(Hybrid, self).__init__()\n",
    "        self.quantum_circuit = QuantumCircuit()\n",
    "        self.shift = shift\n",
    "\n",
    "    def forward(self, input):\n",
    "        return HybridFunction.apply(input, self.quantum_circuit, self.shift)\n"
   ]
  },
  {
   "cell_type": "code",
   "execution_count": 11,
   "id": "225c6466",
   "metadata": {},
   "outputs": [],
   "source": [
    "class Net(nn.Module):\n",
    "    def __init__(self):\n",
    "        super(Net, self).__init__()\n",
    "        self.conv1 = nn.Conv2d(1, 6, kernel_size=5)\n",
    "        self.conv2 = nn.Conv2d(6, 16, kernel_size=5)\n",
    "        self.dropout = nn.Dropout2d()\n",
    "        self.fc1 = nn.Linear(256, 64)\n",
    "        self.fc2 = nn.Linear(64, 1)\n",
    "        self.hybrid = Hybrid(shift=np.pi / 2)\n",
    "\n",
    "    def forward(self, x):\n",
    "        x = F.relu(self.conv1(x))\n",
    "        x = F.max_pool2d(x, 2)\n",
    "        x = F.relu(self.conv2(x))\n",
    "        x = F.max_pool2d(x, 2)\n",
    "        x = self.dropout(x)\n",
    "        x = x.view(1, -1)\n",
    "        x = F.relu(self.fc1(x))\n",
    "        x = self.fc2(x)\n",
    "        x = self.hybrid(x)\n",
    "        return torch.cat((x, 1 - x), -1)"
   ]
  },
  {
   "cell_type": "markdown",
   "id": "5484e3b0",
   "metadata": {},
   "source": [
    "## 五 模型训练"
   ]
  },
  {
   "cell_type": "code",
   "execution_count": 13,
   "id": "11a0dcd9",
   "metadata": {},
   "outputs": [],
   "source": [
    "import torch.optim as optim\n",
    "import torch.nn as nn\n",
    "from matplotlib import pyplot as plt"
   ]
  },
  {
   "cell_type": "code",
   "execution_count": 14,
   "id": "67d14014",
   "metadata": {},
   "outputs": [
    {
     "name": "stderr",
     "output_type": "stream",
     "text": [
      "C:\\Users\\wsh\\AppData\\Local\\Temp\\ipykernel_14036\\1673489329.py:10: UserWarning: Creating a tensor from a list of numpy.ndarrays is extremely slow. Please consider converting the list to a single numpy.ndarray with numpy.array() before converting to a tensor. (Triggered internally at C:\\actions-runner\\_work\\pytorch\\pytorch\\builder\\windows\\pytorch\\torch\\csrc\\utils\\tensor_new.cpp:233.)\n",
      "  result = torch.tensor([expectation_z])\n",
      "C:\\Users\\wsh\\AppData\\Local\\Temp\\ipykernel_14036\\1673489329.py:30: FutureWarning: The input object of type 'Tensor' is an array-like implementing one of the corresponding protocols (`__array__`, `__array_interface__` or `__array_struct__`); but not a sequence (or 0-D). In the future, this object will be coerced as if it was first converted using `np.array(obj)`. To retain the old behaviour, you have to either modify the type 'Tensor', or assign to an empty array created with `np.empty(correct_shape, dtype=object)`.\n",
      "  gradients = np.array([gradients]).T\n"
     ]
    },
    {
     "name": "stdout",
     "output_type": "stream",
     "text": [
      "Training [5%]\tLoss: -0.7514\n",
      "Training [10%]\tLoss: -0.9026\n",
      "Training [15%]\tLoss: -0.9289\n",
      "Training [20%]\tLoss: -0.9387\n",
      "Training [25%]\tLoss: -0.9458\n",
      "Training [30%]\tLoss: -0.9562\n",
      "Training [35%]\tLoss: -0.9567\n",
      "Training [40%]\tLoss: -0.9567\n",
      "Training [45%]\tLoss: -0.9688\n",
      "Training [50%]\tLoss: -0.9701\n",
      "Training [55%]\tLoss: -0.9688\n",
      "Training [60%]\tLoss: -0.9773\n",
      "Training [65%]\tLoss: -0.9816\n",
      "Training [70%]\tLoss: -0.9865\n",
      "Training [75%]\tLoss: -0.9862\n",
      "Training [80%]\tLoss: -0.9861\n",
      "Training [85%]\tLoss: -0.9875\n",
      "Training [90%]\tLoss: -0.9862\n",
      "Training [95%]\tLoss: -0.9890\n",
      "Training [100%]\tLoss: -0.9875\n"
     ]
    }
   ],
   "source": [
    "model = Net()\n",
    "optimizer = optim.Adam(model.parameters(), lr=0.001)\n",
    "loss_func = nn.NLLLoss()\n",
    "\n",
    "epochs = 20\n",
    "loss_list = []\n",
    "\n",
    "model.train()\n",
    "\n",
    "for epoch in range(epochs):\n",
    "    total_loss = []\n",
    "    for batch_idx, (data, target) in enumerate(train_loader):\n",
    "        optimizer.zero_grad()\n",
    "        # Forward pass\n",
    "        output = model(data)\n",
    "        # Calculating loss\n",
    "        loss = loss_func(output, target)\n",
    "        # Backward pass\n",
    "        loss.backward()\n",
    "        # Optimize the weights\n",
    "        optimizer.step()\n",
    "\n",
    "        total_loss.append(loss.item())\n",
    "\n",
    "    loss_list.append(sum(total_loss) / len(total_loss))\n",
    "    print(\n",
    "        \"Training [{:.0f}%]\\tLoss: {:.4f}\".format(\n",
    "            100.0 * (epoch + 1) / epochs, loss_list[-1]\n",
    "        )\n",
    "    )"
   ]
  },
  {
   "cell_type": "code",
   "execution_count": 15,
   "id": "ec02fc10",
   "metadata": {},
   "outputs": [
    {
     "data": {
      "image/png": "[encoded data removed]",
      "text/plain": [
       "<Figure size 640x480 with 1 Axes>"
      ]
     },
     "metadata": {},
     "output_type": "display_data"
    }
   ],
   "source": [
    "plt.plot(loss_list)\n",
    "plt.title(\"Hybrid NN Training Convergence\")\n",
    "plt.xlabel(\"Training Iterations\")\n",
    "plt.ylabel(\"Neg Log Likelihood Loss\")\n",
    "plt.show()"
   ]
  },
  {
   "cell_type": "markdown",
   "id": "1ca38b72",
   "metadata": {},
   "source": [
    "## 六 模型评估"
   ]
  },
  {
   "cell_type": "code",
   "execution_count": null,
   "outputs": [],
   "source": [
    "model.eval()\n",
    "with torch.no_grad():\n",
    "    \n",
    "    correct = 0\n",
    "    for batch_idx, (data, target) in enumerate(test_loader):\n",
    "        output = model(data)\n",
    "        \n",
    "        pred = output.argmax(dim=1, keepdim=True) \n",
    "        correct += pred.eq(target.view_as(pred)).sum().item()\n",
    "        \n",
    "        loss = loss_func(output, target)\n",
    "        total_loss.append(loss.item())\n",
    "        \n",
    "    print(f'Performance on test data:\\n\\tLoss: {sum(total_loss) / len(total_loss):.4f}\\n\\tAccuracy: {correct / len(test_loader) * 100:.1f}%')"
   ],
   "metadata": {
    "collapsed": false,
    "pycharm": {
     "name": "#%%\n"
    }
   }
  },
  {
   "cell_type": "code",
   "execution_count": null,
   "outputs": [],
   "source": [
    "n_samples_show = 6\n",
    "count = 0\n",
    "fig, axes = plt.subplots(nrows=1, ncols=n_samples_show, figsize=(10, 3))\n",
    "\n",
    "model.eval()\n",
    "with torch.no_grad():\n",
    "    for batch_idx, (data, target) in enumerate(test_loader):\n",
    "        if count == n_samples_show:\n",
    "            break\n",
    "        output = model(data)\n",
    "        \n",
    "        pred = output.argmax(dim=1, keepdim=True) \n",
    "\n",
    "        axes[count].imshow(data[0].numpy().squeeze(), cmap='gray')\n",
    "\n",
    "        axes[count].set_xticks([])\n",
    "        axes[count].set_yticks([])\n",
    "        axes[count].set_title(f'Predicted {pred.item()}')\n",
    "        \n",
    "        count += 1"
   ],
   "metadata": {
    "collapsed": false,
    "pycharm": {
     "name": "#%%\n"
    }
   }
  },
  {
   "cell_type": "code",
   "execution_count": null,
   "id": "d5378262",
   "metadata": {},
   "outputs": [],
   "source": []
  }
 ],
 "metadata": {
  "kernelspec": {
   "display_name": "projects-jupyter-7b7mpfar-py3.9",
   "language": "python",
   "name": "projects-jupyter-7b7mpfar-py3.9"
  },
  "language_info": {
   "codemirror_mode": {
    "name": "ipython",
    "version": 3
   },
   "file_extension": ".py",
   "mimetype": "text/x-python",
   "name": "python",
   "nbconvert_exporter": "python",
   "pygments_lexer": "ipython3",
   "version": "3.9.12"
  }
 },
 "nbformat": 4,
 "nbformat_minor": 5
}