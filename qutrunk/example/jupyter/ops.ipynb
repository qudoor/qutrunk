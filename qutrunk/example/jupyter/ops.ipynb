{
 "cells": [
  {
   "cell_type": "markdown",
   "source": [
    "QAa振幅放大：先对4个量子比特做均匀叠加，然后选择状态值为7作为标记值，做3次QAA迭代计算，运行后得到的结果是7对应3状态出现的概率超过了96%"
   ],
   "metadata": {
    "collapsed": false,
    "pycharm": {
     "name": "#%% md\n"
    }
   }
  },
  {
   "cell_type": "code",
   "execution_count": null,
   "metadata": {
    "pycharm": {
     "name": "#%%\n",
     "is_executing": true
    }
   },
   "outputs": [],
   "source": [
    "from qutrunk.circuit.ops import QAA\n",
    "from qutrunk.circuit import QCircuit\n",
    "from qutrunk.circuit.gates import H, All\n",
    "\n",
    "circuit = QCircuit()\n",
    "qureg = circuit.allocate(4)\n",
    "All(H) * qureg\n",
    "QAA(3, 7) * qureg\n",
    "for i in range(2 ** len(qureg)):\n",
    "    print(circuit.get_prob(i))"
   ]
  },
  {
   "cell_type": "markdown",
   "metadata": {
    "pycharm": {
     "name": "#%% md\n"
    }
   },
   "source": [
    "使用PLUS算符制备均匀叠加量子状态"
   ]
  },
  {
   "cell_type": "code",
   "execution_count": 3,
   "metadata": {
    "pycharm": {
     "name": "#%%\n"
    }
   },
   "outputs": [
    {
     "name": "stdout",
     "output_type": "stream",
     "text": [
      "qreg q[2]\n",
      "creg c[2]\n",
      "H * q[0]\n",
      "H * q[1]\n",
      "[0.5+0.j 0.5+0.j 0.5+0.j 0.5+0.j]\n"
     ]
    }
   ],
   "source": [
    "from qutrunk.circuit.ops import PLUS\n",
    "from qutrunk.circuit import QCircuit\n",
    "\n",
    "circuit = QCircuit()\n",
    "qureg = circuit.allocate(2)\n",
    "PLUS * qureg\n",
    "circuit.print()\n",
    "print(circuit.get_statevector())"
   ]
  },
  {
   "cell_type": "markdown",
   "metadata": {
    "pycharm": {
     "name": "#%% md\n"
    }
   },
   "source": [
    "使用Classical算符制备量子状态-经典态"
   ]
  },
  {
   "cell_type": "code",
   "execution_count": 4,
   "metadata": {
    "pycharm": {
     "name": "#%%\n"
    }
   },
   "outputs": [
    {
     "name": "stdout",
     "output_type": "stream",
     "text": [
      "qreg q[2]\n",
      "creg c[2]\n",
      "X * q[0]\n",
      "[0.+0.j 1.+0.j 0.+0.j 0.+0.j]\n"
     ]
    }
   ],
   "source": [
    "from qutrunk.circuit.ops import Classical\n",
    "from qutrunk.circuit import QCircuit\n",
    "\n",
    "circuit = QCircuit()\n",
    "qureg = circuit.allocate(2)\n",
    "Classical(1) * qureg\n",
    "circuit.print()\n",
    "print(circuit.get_statevector())"
   ]
  },
  {
   "cell_type": "markdown",
   "metadata": {
    "pycharm": {
     "name": "#%% md\n"
    }
   },
   "source": [
    "使用AMP算符制备量子状态 - 通过振幅编码制备任意量子态"
   ]
  },
  {
   "cell_type": "code",
   "execution_count": 1,
   "metadata": {
    "pycharm": {
     "name": "#%%\n"
    }
   },
   "outputs": [
    {
     "name": "stdout",
     "output_type": "stream",
     "text": [
      "[1.        +0.j         0.52810695-0.21309473j 0.57063177+0.44419322j\n",
      " 0.        +0.j        ]\n"
     ]
    }
   ],
   "source": [
    "from qutrunk.circuit.ops import AMP\n",
    "from qutrunk.circuit import QCircuit\n",
    "from os import path\n",
    "\n",
    "qubit_len = 2\n",
    "circuit = QCircuit()\n",
    "qr = circuit.allocate(qubit_len)\n",
    "AMP([1 - 2j, 2 + 3j, 3 - 4j, 0.5 + 0.7j], 1, 2) * qr\n",
    "\n",
    "# Print all state\n",
    "print(circuit.get_statevector())\n"
   ]
  },
  {
   "cell_type": "code",
   "execution_count": null,
   "outputs": [],
   "source": [
    "from qutrunk.circuit import QCircuit\n",
    "from qutrunk.circuit.gates import Measure, All\n",
    "from qutrunk.circuit.ops import Classical\n",
    "from qutrunk.circuit.ops import ADD\n",
    "\n",
    "circuit = QCircuit()\n",
    "qr = circuit.allocate(4)\n",
    "\n",
    "Classical(3) * qr\n",
    "\n",
    "ADD(12) * qr\n",
    "\n",
    "All(Measure) * qr\n",
    "res = circuit.run()\n",
    "print(res.get_bitstrs())"
   ],
   "metadata": {
    "collapsed": false,
    "pycharm": {
     "name": "#%%\n"
    }
   }
  },
  {
   "cell_type": "code",
   "execution_count": null,
   "outputs": [],
   "source": [
    "from qutrunk.circuit import QCircuit\n",
    "from qutrunk.circuit.gates import Measure, All\n",
    "from qutrunk.circuit.ops import Classical\n",
    "from qutrunk.circuit.ops import DEC\n",
    "\n",
    "circuit = QCircuit()\n",
    "qr = circuit.allocate(4)\n",
    "Classical(1) * qr\n",
    "DEC * qr\n",
    "All(Measure) * qr\n",
    "res = circuit.run()\n",
    "print(res.get_bitstrs())"
   ],
   "metadata": {
    "collapsed": false,
    "pycharm": {
     "name": "#%%\n"
    }
   }
  },
  {
   "cell_type": "code",
   "execution_count": null,
   "outputs": [],
   "source": [
    "from qutrunk.circuit import QCircuit\n",
    "from qutrunk.circuit.gates import Measure, All\n",
    "from qutrunk.circuit.ops import Classical\n",
    "from qutrunk.circuit.ops import INC\n",
    "\n",
    "# Create quantum circuit\n",
    "circuit = QCircuit()\n",
    "# Allocate quantum qubits\n",
    "qr = circuit.allocate(4)\n",
    "# Set initial amplitudes to classical state with init_value\n",
    "Classical(0) * qr\n",
    "# Apply quantum gates\n",
    "INC * qr\n",
    "# Measure all quantum qubits\n",
    "All(Measure) * qr\n",
    "# Run quantum circuit\n",
    "res = circuit.run()\n",
    "# Print measure result like:\n",
    "# 0b0001\n",
    "print(res.get_bitstrs())"
   ],
   "metadata": {
    "collapsed": false,
    "pycharm": {
     "name": "#%%\n"
    }
   }
  }
 ],
 "metadata": {
  "kernelspec": {
   "display_name": "Python 3.10.4 64-bit",
   "language": "python",
   "name": "python3"
  },
  "language_info": {
   "codemirror_mode": {
    "name": "ipython",
    "version": 3
   },
   "file_extension": ".py",
   "mimetype": "text/x-python",
   "name": "python",
   "nbconvert_exporter": "python",
   "pygments_lexer": "ipython3",
   "version": "3.10.4"
  },
  "orig_nbformat": 4,
  "vscode": {
   "interpreter": {
    "hash": "aee8b7b246df8f9039afb4144a1f6fd8d2ca17a180786b69acc140d282b71a49"
   }
  }
 },
 "nbformat": 4,
 "nbformat_minor": 2
}