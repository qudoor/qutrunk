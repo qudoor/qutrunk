{
 "cells": [
  {
   "cell_type": "markdown",
   "metadata": {
    "pycharm": {
     "name": "#%% md\n"
    }
   },
   "source": [
    "QAa振幅放大：先对4个量子比特做均匀叠加，然后选择状态值为7作为标记值，做3次QAA迭代计算，运行后得到的结果是7对应3状态出现的概率超过了96%"
   ]
  },
  {
   "cell_type": "code",
   "execution_count": 1,
   "metadata": {
    "pycharm": {
     "is_executing": true,
     "name": "#%%\n"
    }
   },
   "outputs": [
    {
     "name": "stdout",
     "output_type": "stream",
     "text": [
      "prob of state |7> = 0.4726562499999991\n",
      "prob of state |7> = 0.9084472656249968\n",
      "prob of state |7> = 0.9613189697265575\n",
      "0.002578735351562488\n",
      "0.0025787353515624874\n",
      "0.002578735351562488\n",
      "0.0025787353515624874\n",
      "0.002578735351562488\n",
      "0.0025787353515624874\n",
      "0.002578735351562488\n",
      "0.9613189697265575\n",
      "0.002578735351562488\n",
      "0.0025787353515624874\n",
      "0.002578735351562488\n",
      "0.0025787353515624874\n",
      "0.002578735351562488\n",
      "0.0025787353515624874\n",
      "0.002578735351562488\n",
      "0.0025787353515624853\n"
     ]
    }
   ],
   "source": [
    "from qutrunk.circuit.ops import QAA\n",
    "from qutrunk.circuit import QCircuit\n",
    "from qutrunk.circuit.gates import H, All\n",
    "\n",
    "circuit = QCircuit()\n",
    "qureg = circuit.allocate(4)\n",
    "All(H) * qureg\n",
    "QAA(3, 7) * qureg\n",
    "for i in range(2 ** len(qureg)):\n",
    "    print(circuit.get_prob(i))"
   ]
  },
  {
   "cell_type": "markdown",
   "metadata": {
    "pycharm": {
     "name": "#%% md\n"
    }
   },
   "source": [
    "使用PLUS算符制备均匀叠加量子状态"
   ]
  },
  {
   "cell_type": "code",
   "execution_count": 2,
   "metadata": {
    "pycharm": {
     "name": "#%%\n"
    }
   },
   "outputs": [
    {
     "name": "stdout",
     "output_type": "stream",
     "text": [
      "qreg q[2]\n",
      "creg c[2]\n",
      "H * q[0]\n",
      "H * q[1]\n",
      "[0.5+0.j 0.5+0.j 0.5+0.j 0.5+0.j]\n"
     ]
    }
   ],
   "source": [
    "from qutrunk.circuit.ops import PLUS\n",
    "from qutrunk.circuit import QCircuit\n",
    "\n",
    "circuit = QCircuit()\n",
    "qureg = circuit.allocate(2)\n",
    "PLUS * qureg\n",
    "circuit.print()\n",
    "print(circuit.get_statevector())"
   ]
  },
  {
   "cell_type": "markdown",
   "metadata": {
    "pycharm": {
     "name": "#%% md\n"
    }
   },
   "source": [
    "使用Classical算符制备量子状态-经典态"
   ]
  },
  {
   "cell_type": "code",
   "execution_count": 3,
   "metadata": {
    "pycharm": {
     "name": "#%%\n"
    }
   },
   "outputs": [
    {
     "name": "stdout",
     "output_type": "stream",
     "text": [
      "qreg q[2]\n",
      "creg c[2]\n",
      "X * q[0]\n",
      "[0.+0.j 1.+0.j 0.+0.j 0.+0.j]\n"
     ]
    }
   ],
   "source": [
    "from qutrunk.circuit.ops import Classical\n",
    "from qutrunk.circuit import QCircuit\n",
    "\n",
    "circuit = QCircuit()\n",
    "qureg = circuit.allocate(2)\n",
    "Classical(1) * qureg\n",
    "circuit.print()\n",
    "print(circuit.get_statevector())"
   ]
  },
  {
   "cell_type": "markdown",
   "metadata": {
    "pycharm": {
     "name": "#%% md\n"
    }
   },
   "source": [
    "使用AMP算符制备量子状态 - 通过振幅编码制备任意量子态"
   ]
  },
  {
   "cell_type": "code",
   "execution_count": 4,
   "metadata": {
    "pycharm": {
     "name": "#%%\n"
    }
   },
   "outputs": [
    {
     "name": "stdout",
     "output_type": "stream",
     "text": [
      "[1.        +0.j         0.52810695-0.21309473j 0.57063177+0.44419322j\n",
      " 0.        +0.j        ]\n"
     ]
    }
   ],
   "source": [
    "from qutrunk.circuit.ops import AMP\n",
    "from qutrunk.circuit import QCircuit\n",
    "from os import path\n",
    "\n",
    "qubit_len = 2\n",
    "circuit = QCircuit()\n",
    "qr = circuit.allocate(qubit_len)\n",
    "AMP([1 - 2j, 2 + 3j, 3 - 4j, 0.5 + 0.7j], 1, 2) * qr\n",
    "\n",
    "# Print all state\n",
    "print(circuit.get_statevector())\n"
   ]
  },
  {
   "cell_type": "markdown",
   "source": [
    "量子加法算符ADD"
   ],
   "metadata": {
    "collapsed": false,
    "pycharm": {
     "name": "#%% md\n"
    }
   }
  },
  {
   "cell_type": "code",
   "execution_count": null,
   "outputs": [],
   "source": [
    "from qutrunk.circuit import QCircuit\n",
    "from qutrunk.circuit.gates import Measure, All\n",
    "from qutrunk.circuit.ops import Classical\n",
    "from qutrunk.circuit.ops import ADD\n",
    "\n",
    "circuit = QCircuit()\n",
    "qr = circuit.allocate(4)\n",
    "Classical(3) * qr\n",
    "ADD(12) * qr\n",
    "All(Measure) * qr\n",
    "\n",
    "res = circuit.run()\n",
    "print(res.get_bitstrs())"
   ],
   "metadata": {
    "collapsed": false,
    "pycharm": {
     "name": "#%%\n"
    }
   }
  },
  {
   "cell_type": "markdown",
   "source": [
    "量子自减算符DEC"
   ],
   "metadata": {
    "collapsed": false,
    "pycharm": {
     "name": "#%% md\n"
    }
   }
  },
  {
   "cell_type": "code",
   "execution_count": null,
   "outputs": [],
   "source": [
    "from qutrunk.circuit import QCircuit\n",
    "from qutrunk.circuit.gates import Measure, All\n",
    "from qutrunk.circuit.ops import Classical\n",
    "from qutrunk.circuit.ops import DEC\n",
    "\n",
    "circuit = QCircuit()\n",
    "qr = circuit.allocate(4)\n",
    "Classical(1) * qr\n",
    "DEC * qr\n",
    "All(Measure) * qr\n",
    "res = circuit.run()\n",
    "print(res.get_bitstrs())"
   ],
   "metadata": {
    "collapsed": false,
    "pycharm": {
     "name": "#%%\n"
    }
   }
  },
  {
   "cell_type": "markdown",
   "source": [
    "量子自加算符INC"
   ],
   "metadata": {
    "collapsed": false,
    "pycharm": {
     "name": "#%% md\n"
    }
   }
  },
  {
   "cell_type": "code",
   "execution_count": null,
   "outputs": [],
   "source": [
    "from qutrunk.circuit import QCircuit\n",
    "from qutrunk.circuit.gates import Measure, All\n",
    "from qutrunk.circuit.ops import Classical\n",
    "from qutrunk.circuit.ops import INC\n",
    "\n",
    "circuit = QCircuit()\n",
    "qr = circuit.allocate(4)\n",
    "Classical(0) * qr\n",
    "INC * qr\n",
    "All(Measure) * qr\n",
    "\n",
    "res = circuit.run()\n",
    "print(res.get_bitstrs())"
   ],
   "metadata": {
    "collapsed": false,
    "pycharm": {
     "name": "#%%\n"
    }
   }
  },
  {
   "cell_type": "markdown",
   "source": [
    "量子傅里叶算符QFT"
   ],
   "metadata": {
    "collapsed": false,
    "pycharm": {
     "name": "#%% md\n"
    }
   }
  },
  {
   "cell_type": "code",
   "execution_count": null,
   "outputs": [],
   "source": [
    "from qutrunk.circuit import QCircuit\n",
    "from qutrunk.circuit.gates import All, Measure\n",
    "from qutrunk.circuit.ops import QFT\n",
    "\n",
    "circuit = QCircuit()\n",
    "qreg = circuit.allocate(5)\n",
    "QFT * qreg\n",
    "state = circuit.get_statevector()\n",
    "All(Measure) * qreg\n",
    "res = circuit.run(shots=1000)\n",
    "print(res.get_counts())"
   ],
   "metadata": {
    "collapsed": false,
    "pycharm": {
     "name": "#%%\n"
    }
   }
  },
  {
   "cell_type": "code",
   "execution_count": null,
   "outputs": [],
   "source": [],
   "metadata": {
    "collapsed": false,
    "pycharm": {
     "name": "#%%\n"
    }
   }
  },
  {
   "cell_type": "markdown",
   "metadata": {},
   "source": [
    "量子自加算符INC"
   ]
  },
  {
   "cell_type": "code",
   "execution_count": 13,
   "metadata": {
    "pycharm": {
     "name": "#%%\n"
    }
   },
   "outputs": [
    {
     "name": "stdout",
     "output_type": "stream",
     "text": [
      "['0b0001']\n"
     ]
    }
   ],
   "source": [
    "from qutrunk.circuit import QCircuit\n",
    "from qutrunk.circuit.gates import Measure, All\n",
    "from qutrunk.circuit.ops import Classical\n",
    "from qutrunk.circuit.ops import INC\n",
    "\n",
    "circuit = QCircuit()\n",
    "qr = circuit.allocate(4)\n",
    "Classical(0) * qr\n",
    "INC * qr\n",
    "All(Measure) * qr\n",
    "\n",
    "res = circuit.run()\n",
    "print(res.get_bitstrs())"
   ]
  },
  {
   "cell_type": "markdown",
   "metadata": {},
   "source": [
    "量子傅里叶算符QFT"
   ]
  },
  {
   "cell_type": "code",
   "execution_count": 17,
   "metadata": {
    "pycharm": {
     "name": "#%%\n"
    }
   },
   "outputs": [
    {
     "name": "stdout",
     "output_type": "stream",
     "text": [
      "[{\"0b00000\": 21}, {\"0b00001\": 43}, {\"0b00010\": 25}, {\"0b00011\": 39}, {\"0b00100\": 41}, {\"0b00101\": 32}, {\"0b00110\": 43}, {\"0b00111\": 34}, {\"0b01000\": 26}, {\"0b01001\": 36}, {\"0b01010\": 27}, {\"0b01011\": 25}, {\"0b01100\": 38}, {\"0b01101\": 34}, {\"0b01110\": 22}, {\"0b01111\": 32}, {\"0b10000\": 30}, {\"0b10001\": 33}, {\"0b10010\": 33}, {\"0b10011\": 33}, {\"0b10100\": 34}, {\"0b10101\": 24}, {\"0b10110\": 28}, {\"0b10111\": 31}, {\"0b11000\": 34}, {\"0b11001\": 30}, {\"0b11010\": 28}, {\"0b11011\": 32}, {\"0b11100\": 26}, {\"0b11101\": 35}, {\"0b11110\": 26}, {\"0b11111\": 25}]\n"
     ]
    }
   ],
   "source": [
    "from qutrunk.circuit import QCircuit\n",
    "from qutrunk.circuit.gates import All, Measure\n",
    "from qutrunk.circuit.ops import QFT\n",
    "\n",
    "circuit = QCircuit()\n",
    "qreg = circuit.allocate(5)\n",
    "QFT * qreg\n",
    "state = circuit.get_statevector()\n",
    "All(Measure) * qreg\n",
    "res = circuit.run(shots=1000)\n",
    "print(res.get_counts())"
   ]
  },
  {
   "cell_type": "code",
   "execution_count": null,
   "metadata": {},
   "outputs": [],
   "source": []
  }
 ],
 "metadata": {
  "kernelspec": {
   "display_name": "Python 3 (ipykernel)",
   "language": "python",
   "name": "python3"
  },
  "language_info": {
   "codemirror_mode": {
    "name": "ipython",
    "version": 3
   },
   "file_extension": ".py",
   "mimetype": "text/x-python",
   "name": "python",
   "nbconvert_exporter": "python",
   "pygments_lexer": "ipython3",
   "version": "3.10.4"
  },
  "vscode": {
   "interpreter": {
    "hash": "aee8b7b246df8f9039afb4144a1f6fd8d2ca17a180786b69acc140d282b71a49"
   }
  }
 },
 "nbformat": 4,
 "nbformat_minor": 2
}