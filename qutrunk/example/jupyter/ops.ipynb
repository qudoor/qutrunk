{
 "cells": [
  {
   "cell_type": "code",
   "execution_count": null,
   "metadata": {},
   "outputs": [],
   "source": [
    "QAa振幅放大：先对4个量子比特做均匀叠加，然后选择状态值为7作为标记值，做3次QAA迭代计算，运行后得到的结果是7对应3状态出现的概率超过了96%"
   ]
  },
  {
   "cell_type": "code",
   "execution_count": 1,
   "metadata": {},
   "outputs": [
    {
     "name": "stdout",
     "output_type": "stream",
     "text": [
      "prob of state |7> = 0.4726562499999991\n",
      "prob of state |7> = 0.9084472656249968\n",
      "prob of state |7> = 0.9613189697265575\n",
      "0.002578735351562488\n",
      "0.0025787353515624874\n",
      "0.002578735351562488\n",
      "0.0025787353515624874\n",
      "0.002578735351562488\n",
      "0.0025787353515624874\n",
      "0.002578735351562488\n",
      "0.9613189697265575\n",
      "0.002578735351562488\n",
      "0.0025787353515624874\n",
      "0.002578735351562488\n",
      "0.0025787353515624874\n",
      "0.002578735351562488\n",
      "0.0025787353515624874\n",
      "0.002578735351562488\n",
      "0.0025787353515624853\n"
     ]
    }
   ],
   "source": [
    "from qutrunk.circuit.ops import QAA\n",
    "from qutrunk.circuit import QCircuit\n",
    "from qutrunk.circuit.gates import H, All\n",
    "\n",
    "circuit = QCircuit()\n",
    "qureg = circuit.allocate(4)\n",
    "All(H) * qureg\n",
    "QAA(3, 7) * qureg\n",
    "for i in range(2 ** len(qureg)):\n",
    "    print(circuit.get_prob(i))"
   ]
  },
  {
   "cell_type": "markdown",
   "metadata": {},
   "source": [
    "使用PLUS算符制备均匀叠加量子状态"
   ]
  },
  {
   "cell_type": "code",
   "execution_count": 3,
   "metadata": {},
   "outputs": [
    {
     "name": "stdout",
     "output_type": "stream",
     "text": [
      "qreg q[2]\n",
      "creg c[2]\n",
      "H * q[0]\n",
      "H * q[1]\n",
      "[0.5+0.j 0.5+0.j 0.5+0.j 0.5+0.j]\n"
     ]
    }
   ],
   "source": [
    "from qutrunk.circuit.ops import PLUS\n",
    "from qutrunk.circuit import QCircuit\n",
    "\n",
    "circuit = QCircuit()\n",
    "qureg = circuit.allocate(2)\n",
    "PLUS * qureg\n",
    "circuit.print()\n",
    "print(circuit.get_statevector())"
   ]
  },
  {
   "cell_type": "markdown",
   "metadata": {},
   "source": [
    "使用Classical算符制备量子状态-经典态"
   ]
  },
  {
   "cell_type": "code",
   "execution_count": 4,
   "metadata": {},
   "outputs": [
    {
     "name": "stdout",
     "output_type": "stream",
     "text": [
      "qreg q[2]\n",
      "creg c[2]\n",
      "X * q[0]\n",
      "[0.+0.j 1.+0.j 0.+0.j 0.+0.j]\n"
     ]
    }
   ],
   "source": [
    "from qutrunk.circuit.ops import Classical\n",
    "from qutrunk.circuit import QCircuit\n",
    "\n",
    "circuit = QCircuit()\n",
    "qureg = circuit.allocate(2)\n",
    "Classical(1) * qureg\n",
    "circuit.print()\n",
    "print(circuit.get_statevector())"
   ]
  },
  {
   "cell_type": "markdown",
   "metadata": {},
   "source": [
    "使用AMP算符制备量子状态 - 通过振幅编码制备任意量子态"
   ]
  },
  {
   "cell_type": "code",
   "execution_count": 6,
   "metadata": {},
   "outputs": [
    {
     "name": "stdout",
     "output_type": "stream",
     "text": [
      "[1.        +0.j         0.52810695-0.21309473j 0.57063177+0.44419322j\n",
      " 0.        +0.j        ]\n"
     ]
    },
    {
     "ename": "NameError",
     "evalue": "name 'WIN' is not defined",
     "output_type": "error",
     "traceback": [
      "\u001b[0;31m---------------------------------------------------------------------------\u001b[0m",
      "\u001b[0;31mNameError\u001b[0m                                 Traceback (most recent call last)",
      "\u001b[1;32m/Users/apple/work/qutrunk/qutrunk/example/jupyter/ops.ipynb Cell 8'\u001b[0m in \u001b[0;36m<cell line: 15>\u001b[0;34m()\u001b[0m\n\u001b[1;32m     <a href='vscode-notebook-cell:/Users/apple/work/qutrunk/qutrunk/example/jupyter/ops.ipynb#ch0000007?line=12'>13</a>\u001b[0m \u001b[39m# Write circuit to amp.qusl\u001b[39;00m\n\u001b[1;32m     <a href='vscode-notebook-cell:/Users/apple/work/qutrunk/qutrunk/example/jupyter/ops.ipynb#ch0000007?line=13'>14</a>\u001b[0m file_path \u001b[39m=\u001b[39m \u001b[39mNone\u001b[39;00m\n\u001b[0;32m---> <a href='vscode-notebook-cell:/Users/apple/work/qutrunk/qutrunk/example/jupyter/ops.ipynb#ch0000007?line=14'>15</a>\u001b[0m \u001b[39mif\u001b[39;00m WIN:\n\u001b[1;32m     <a href='vscode-notebook-cell:/Users/apple/work/qutrunk/qutrunk/example/jupyter/ops.ipynb#ch0000007?line=15'>16</a>\u001b[0m     path \u001b[39m=\u001b[39m path\u001b[39m.\u001b[39mexpanduser(\u001b[39m'\u001b[39m\u001b[39m~\u001b[39m\u001b[39m'\u001b[39m)\n\u001b[1;32m     <a href='vscode-notebook-cell:/Users/apple/work/qutrunk/qutrunk/example/jupyter/ops.ipynb#ch0000007?line=16'>17</a>\u001b[0m     file_path \u001b[39m=\u001b[39m path \u001b[39m+\u001b[39m \u001b[39m'\u001b[39m\u001b[39m\\\\\u001b[39;00m\u001b[39mamp.qusl\u001b[39m\u001b[39m'\u001b[39m\n",
      "\u001b[0;31mNameError\u001b[0m: name 'WIN' is not defined"
     ]
    }
   ],
   "source": [
    "from qutrunk.circuit.ops import AMP\n",
    "from qutrunk.circuit import QCircuit\n",
    "from os import path\n",
    "\n",
    "qubit_len = 2\n",
    "circuit = QCircuit()\n",
    "qr = circuit.allocate(qubit_len)\n",
    "AMP([1 - 2j, 2 + 3j, 3 - 4j, 0.5 + 0.7j], 1, 2) * qr\n",
    "\n",
    "# Print all state\n",
    "print(circuit.get_statevector())\n"
   ]
  }
 ],
 "metadata": {
  "kernelspec": {
   "display_name": "Python 3.10.4 64-bit",
   "language": "python",
   "name": "python3"
  },
  "language_info": {
   "codemirror_mode": {
    "name": "ipython",
    "version": 3
   },
   "file_extension": ".py",
   "mimetype": "text/x-python",
   "name": "python",
   "nbconvert_exporter": "python",
   "pygments_lexer": "ipython3",
   "version": "3.10.4"
  },
  "orig_nbformat": 4,
  "vscode": {
   "interpreter": {
    "hash": "aee8b7b246df8f9039afb4144a1f6fd8d2ca17a180786b69acc140d282b71a49"
   }
  }
 },
 "nbformat": 4,
 "nbformat_minor": 2
}
