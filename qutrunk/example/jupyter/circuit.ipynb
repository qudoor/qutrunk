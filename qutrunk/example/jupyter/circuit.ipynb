{
 "cells": [
  {
   "cell_type": "markdown",
   "metadata": {
    "pycharm": {
     "name": "#%% md\n"
    }
   },
   "source": [
    "反序列化OpenQASM文件对象，并运行量子线路。"
   ]
  },
  {
   "cell_type": "code",
   "execution_count": 12,
   "metadata": {
    "pycharm": {
     "name": "#%%\n"
    }
   },
   "outputs": [
    {
     "name": "stdout",
     "output_type": "stream",
     "text": [
      "[{\"00\": 54}, {\"11\": 46}]\n"
     ]
    }
   ],
   "source": [
    "\"\"\"Deserialize OpenQASM file object.\"\"\"\n",
    "import os\n",
    "from qutrunk.circuit import QCircuit\n",
    "\n",
    "circuit = QCircuit.load(file=os.getcwd() + \"/qutrunk/example/bell_pair.qasm\", format=\"openqasm\")\n",
    "# run circuit\n",
    "res = circuit.run(shots=100)\n",
    "# print result\n",
    "print(res.get_counts())"
   ]
  },
  {
   "cell_type": "markdown",
   "metadata": {
    "pycharm": {
     "name": "#%% md\n"
    }
   },
   "source": [
    "以OpenQASM格式导出量子线路"
   ]
  },
  {
   "cell_type": "code",
   "execution_count": 5,
   "metadata": {
    "pycharm": {
     "name": "#%%\n"
    }
   },
   "outputs": [
    {
     "name": "stdout",
     "output_type": "stream",
     "text": [
      "OPENQASM 2.0;\n",
      "include \"qelib1.inc\";\n",
      "qreg q[2];\n",
      "creg c[2];\n",
      "h q[0];\n",
      "cx q[0],q[1];\n",
      "measure q[0] -> c[0];\n",
      "measure q[1] -> c[1];\n"
     ]
    }
   ],
   "source": [
    "from qutrunk.circuit import QCircuit\n",
    "from qutrunk.circuit.gates import H, CNOT, Measure\n",
    "\n",
    "# allocate\n",
    "qc = QCircuit()\n",
    "qr = qc.allocate(2)\n",
    "\n",
    "# apply gate\n",
    "H * qr[0]\n",
    "CNOT * (qr[0], qr[1])\n",
    "Measure * qr[0]\n",
    "Measure * qr[1]\n",
    "\n",
    "# export\n",
    "qc.dump(file=\"bell_pair.qasm\", format=\"openqasm\")\n",
    "\n",
    "with open(file=\"bell_pair.qasm\") as f:\n",
    "    for line in f:\n",
    "        print(line, end=\"\")"
   ]
  },
  {
   "cell_type": "markdown",
   "metadata": {
    "pycharm": {
     "name": "#%% md\n"
    }
   },
   "source": [
    "反序列化QuSL文件对象，并运行量子线路。"
   ]
  },
  {
   "cell_type": "code",
   "execution_count": 13,
   "metadata": {
    "pycharm": {
     "name": "#%%\n"
    }
   },
   "outputs": [
    {
     "name": "stdout",
     "output_type": "stream",
     "text": [
      "[{\"00\": 57}, {\"11\": 43}]\n"
     ]
    }
   ],
   "source": [
    "\"\"\"Deserialize QuSL file object.\"\"\"\n",
    "import os\n",
    "from qutrunk.circuit import QCircuit\n",
    "\n",
    "circuit = QCircuit.load(file=os.getcwd() + \"/qutrunk/example/bell_pair.qusl\")\n",
    "# run circuit\n",
    "res = circuit.run(shots=100)\n",
    "# print result\n",
    "print(res.get_counts())"
   ]
  },
  {
   "cell_type": "markdown",
   "metadata": {
    "pycharm": {
     "name": "#%% md\n"
    }
   },
   "source": [
    "申请多个量子寄存器"
   ]
  },
  {
   "cell_type": "code",
   "execution_count": 14,
   "metadata": {
    "pycharm": {
     "name": "#%%\n"
    }
   },
   "outputs": [
    {
     "name": "stdout",
     "output_type": "stream",
     "text": [
      "[{\"00\": 44}, {\"11\": 56}]\n"
     ]
    }
   ],
   "source": [
    "from qutrunk.circuit import QCircuit\n",
    "from qutrunk.circuit.gates import H, CNOT, Measure\n",
    "\n",
    "qc = QCircuit()\n",
    "# allocate 2 qureg: q1, q2\n",
    "q1, q2 = qc.allocate([1, 1])\n",
    "\n",
    "H * q1[0]\n",
    "CNOT * (q1[0], q2[0])\n",
    "Measure * q1[0]\n",
    "Measure * q2[0]\n",
    "res = qc.run(shots=100)\n",
    "print(res.get_counts())"
   ]
  },
  {
   "cell_type": "markdown",
   "metadata": {
    "pycharm": {
     "name": "#%% md\n"
    }
   },
   "source": [
    "获取线路所有状态对应的概率"
   ]
  },
  {
   "cell_type": "code",
   "execution_count": 7,
   "metadata": {
    "pycharm": {
     "name": "#%%\n"
    }
   },
   "outputs": [
    {
     "name": "stdout",
     "output_type": "stream",
     "text": [
      "[{'idx': 0, 'prob': 0.4999999999999999}, {'idx': 1, 'prob': 0.0}, {'idx': 2, 'prob': 0.0}, {'idx': 3, 'prob': 0.4999999999999999}]\n"
     ]
    }
   ],
   "source": [
    "from qutrunk.circuit import QCircuit\n",
    "from qutrunk.circuit.gates import H, CNOT\n",
    "\n",
    "qc = QCircuit()\n",
    "# allocate 2 qureg: q1, q2\n",
    "q = qc.allocate(2)\n",
    "\n",
    "H * q[0]\n",
    "CNOT * (q[0], q[1])\n",
    "print(qc.get_probs())"
   ]
  },
  {
   "cell_type": "markdown",
   "metadata": {
    "pycharm": {
     "name": "#%% md\n"
    }
   },
   "source": [
    "参数化量子线路"
   ]
  },
  {
   "cell_type": "code",
   "execution_count": 8,
   "metadata": {
    "pycharm": {
     "name": "#%%\n"
    }
   },
   "outputs": [
    {
     "name": "stdout",
     "output_type": "stream",
     "text": [
      "[0.77015115+0.j 0.42073549+0.j 0.42073549+0.j 0.22984885+0.j]\n",
      "[0.29192658+0.j 0.45464871+0.j 0.45464871+0.j 0.70807342+0.j]\n"
     ]
    }
   ],
   "source": [
    "from qutrunk.circuit import QCircuit\n",
    "from qutrunk.circuit.gates import Ry\n",
    "\n",
    "circuit = QCircuit()\n",
    "q = circuit.allocate(2)\n",
    "theta, phi = circuit.create_parameters([\"theta\", \"phi\"])\n",
    "\n",
    "Ry(theta) * q[0]\n",
    "Ry(phi) * q[1]\n",
    "\n",
    "c1 = circuit.bind_parameters({\"theta\": 1, \"phi\": 1})\n",
    "print(c1.get_statevector())\n",
    "\n",
    "c2 = circuit.bind_parameters({\"theta\": 2, \"phi\": 2})\n",
    "print(c2.get_statevector())"
   ]
  },
  {
   "cell_type": "markdown",
   "metadata": {
    "pycharm": {
     "name": "#%% md\n"
    }
   },
   "source": [
    "追加线路"
   ]
  },
  {
   "cell_type": "code",
   "execution_count": 9,
   "metadata": {
    "pycharm": {
     "name": "#%%\n"
    }
   },
   "outputs": [
    {
     "name": "stdout",
     "output_type": "stream",
     "text": [
      "qreg q[2]\n",
      "creg c[2]\n",
      "H * q[0]\n",
      "MCX(1) * (q[0], q[1])\n",
      "Measure * q[0]\n",
      "Measure * q[1]\n",
      "[{\"00\": 45}, {\"11\": 55}]\n"
     ]
    }
   ],
   "source": [
    "from qutrunk.circuit import QCircuit\n",
    "from qutrunk.circuit.gates import H, CNOT, Measure, X, All\n",
    "\n",
    "circ1 = QCircuit()\n",
    "qr = circ1.allocate(2)\n",
    "\n",
    "# apply gate\n",
    "H * qr[0]\n",
    "CNOT * (qr[0], qr[1])\n",
    "\n",
    "circuit = QCircuit()\n",
    "q = circuit.allocate(2)\n",
    "\n",
    "circuit.append_circuit(circ1)\n",
    "\n",
    "All(Measure) * q\n",
    "\n",
    "# run circuit\n",
    "circuit.print()\n",
    "res = circuit.run(shots=100)\n",
    "print(res.get_counts())"
   ]
  },
  {
   "cell_type": "markdown",
   "metadata": {
    "pycharm": {
     "name": "#%% md\n"
    }
   },
   "source": [
    "计算线路期望值"
   ]
  },
  {
   "cell_type": "code",
   "execution_count": 10,
   "metadata": {
    "pycharm": {
     "name": "#%%\n"
    }
   },
   "outputs": [
    {
     "name": "stdout",
     "output_type": "stream",
     "text": [
      "0.33423772712450267\n"
     ]
    }
   ],
   "source": [
    "from qutrunk.circuit import QCircuit\n",
    "from qutrunk.circuit.gates import Ry, PauliZ, PauliI\n",
    "\n",
    "circuit = QCircuit()\n",
    "q = circuit.allocate(2)\n",
    "\n",
    "Ry(1.23) * q[0]\n",
    "pauli_str = [PauliZ(q[0]), PauliI(q[1])]\n",
    "expect = circuit.expval_pauli(pauli_str)\n",
    "print(expect)"
   ]
  },
  {
   "cell_type": "markdown",
   "metadata": {
    "pycharm": {
     "name": "#%% md\n"
    }
   },
   "source": [
    "计算线路期望值之和"
   ]
  },
  {
   "cell_type": "code",
   "execution_count": null,
   "metadata": {
    "pycharm": {
     "name": "#%%\n"
    }
   },
   "outputs": [],
   "source": [
    "from qutrunk.circuit import QCircuit\n",
    "from qutrunk.circuit.gates import H, Ry, PauliZ, PauliI, PauliX, PauliCoeff, PauliType, PauliCoeffs\n",
    "\n",
    "circuit = QCircuit()\n",
    "q = circuit.allocate(2)\n",
    "\n",
    "H * q[0]\n",
    "Ry(1.23) * q[1]\n",
    "\n",
    "pauli_coeffs = PauliCoeffs() << PauliCoeff(0.12, [PauliType.PAULI_Z]) \\\n",
    "    << PauliCoeff(0.34, [PauliType.PAULI_X, PauliType.PAULI_I])\n",
    "\n",
    "expect_sum = circuit.expval_pauli_sum(pauli_coeffs)\n",
    "print(expect_sum)"
   ]
  }
 ],
 "metadata": {
  "language_info": {
   "name": "python"
  },
  "orig_nbformat": 4
 },
 "nbformat": 4,
 "nbformat_minor": 2
}