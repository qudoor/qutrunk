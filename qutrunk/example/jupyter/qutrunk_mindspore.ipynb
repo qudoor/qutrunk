{
 "cells": [
  {
   "cell_type": "markdown",
   "source": [
    "# 环境准备。\n",
    "安装好 mindspore，参考 [mindspore安装](https://www.mindspore.cn/install)，本demo使用环境如下:\n",
    "\n",
    "```\n",
    "MacOS 12.5.1 aarch64\n",
    "python 3.9.15\n",
    "mindspore 1.9.0\n",
    "```"
   ],
   "metadata": {
    "collapsed": false
   }
  },
  {
   "cell_type": "code",
   "execution_count": 1,
   "outputs": [],
   "source": [
    "import mindspore as ms\n",
    "import numpy as np\n",
    "from matplotlib import pyplot as plt\n",
    "from mindspore import nn, Tensor, Parameter, ops\n",
    "from mindspore.nn import Adam\n",
    "\n",
    "from qutrunk.circuit import QCircuit\n",
    "from qutrunk.circuit.gates import PauliZ, Rx, Ry, H, Rz\n",
    "\n",
    "ms.set_seed(12)  # 设置生成随机数的种子\n",
    "ms.set_context(mode=ms.PYNATIVE_MODE, device_target=\"CPU\")"
   ],
   "metadata": {
    "collapsed": false
   }
  },
  {
   "cell_type": "markdown",
   "source": [
    "# 构建编码线路 encoder，将经典数据编码到量子数据"
   ],
   "metadata": {
    "collapsed": false
   }
  },
  {
   "cell_type": "code",
   "execution_count": 2,
   "outputs": [],
   "source": [
    "def circuit_encoder(encoder_data):\n",
    "    alpha0, alpha1, alpha2 = [float(f) for f in encoder_data]\n",
    "    circuit = QCircuit()\n",
    "    qreg = circuit.allocate(1)\n",
    "    H * qreg[0]\n",
    "    Rx(alpha0) * qreg[0]\n",
    "    Ry(alpha1) * qreg[0]\n",
    "    Rz(alpha2) * qreg[0]\n",
    "    return circuit"
   ],
   "metadata": {
    "collapsed": false
   }
  },
  {
   "cell_type": "markdown",
   "source": [
    "# 定义用于训练的含参量子线路 ansatz"
   ],
   "metadata": {
    "collapsed": false
   }
  },
  {
   "cell_type": "code",
   "execution_count": 3,
   "outputs": [],
   "source": [
    "def circuit_ansatz():\n",
    "    circuit = QCircuit()\n",
    "    q = circuit.allocate(1)\n",
    "    angles = [\"theta-0\", \"theta-1\"]\n",
    "    params = circuit.create_parameters(angles)\n",
    "\n",
    "    Rx(params[0]) * q[0]\n",
    "    Ry(params[1]) * q[0]\n",
    "\n",
    "    return circuit"
   ],
   "metadata": {
    "collapsed": false
   }
  },
  {
   "cell_type": "markdown",
   "source": [
    "# 用于测量/投影的哈密顿量"
   ],
   "metadata": {
    "collapsed": false
   }
  },
  {
   "cell_type": "code",
   "execution_count": 4,
   "outputs": [],
   "source": [
    "def hamiltonian():\n",
    "    circuit = QCircuit()\n",
    "    qreg = circuit.allocate(1)\n",
    "    return PauliZ(qreg[0])"
   ],
   "metadata": {
    "collapsed": false
   }
  },
  {
   "cell_type": "markdown",
   "source": [
    "# 连接编码线路和用于训练的线路，绑定当前参数值"
   ],
   "metadata": {
    "collapsed": false
   }
  },
  {
   "cell_type": "code",
   "execution_count": 5,
   "outputs": [],
   "source": [
    "def join_circuit(encoder, ansatz, inputs):\n",
    "    params = {\"theta-\" + str(i): inputs[i] for i in range(len(inputs))}\n",
    "    ansatz.bind_parameters(params)\n",
    "    encoder.append_circuit(ansatz)\n",
    "    return encoder"
   ],
   "metadata": {
    "collapsed": false
   }
  },
  {
   "cell_type": "markdown",
   "source": [
    "# 用参数位移算法计算量子线路梯度值"
   ],
   "metadata": {
    "collapsed": false
   }
  },
  {
   "cell_type": "code",
   "execution_count": 6,
   "outputs": [],
   "source": [
    "def parameter_shift(inputs, exp_op, params, shift=np.pi / 2):\n",
    "    \"\"\"\n",
    "    Backward pass computation, calculate the gradient of quantum circuit by parameter shift rule.\n",
    "    \"\"\"\n",
    "    params = np.array(params)\n",
    "\n",
    "    gradients = []\n",
    "    for i in range(len(params)):\n",
    "        shift_right = np.copy(params)\n",
    "        shift_right[i] += shift\n",
    "        shift_left = np.copy(params)\n",
    "        shift_left[i] -= shift\n",
    "\n",
    "        circuit = join_circuit(circuit_encoder(inputs), circuit_ansatz(), shift_right)\n",
    "        expectation_right = -1 * circuit.expval_pauli(exp_op)\n",
    "\n",
    "        circuit = join_circuit(circuit_encoder(inputs), circuit_ansatz(), shift_left)\n",
    "        expectation_left = -1 * circuit.expval_pauli(exp_op)\n",
    "\n",
    "        gradient = np.array([expectation_right]) - np.array([expectation_left])\n",
    "        gradients.append(gradient)\n",
    "    gradients = np.squeeze(np.array(gradients).T)\n",
    "    return gradients"
   ],
   "metadata": {
    "collapsed": false
   }
  },
  {
   "cell_type": "markdown",
   "source": [
    "# 自定义训练网络"
   ],
   "metadata": {
    "collapsed": false
   }
  },
  {
   "cell_type": "markdown",
   "source": [],
   "metadata": {
    "collapsed": false
   }
  },
  {
   "cell_type": "code",
   "execution_count": 7,
   "outputs": [],
   "source": [
    "class CustomTrainOneStepCell(nn.Cell):\n",
    "\n",
    "    def __init__(self, optimizer, exp_op):\n",
    "        super(CustomTrainOneStepCell, self).__init__(auto_prefix=False)\n",
    "        self.optimizer = optimizer  # 定义优化器\n",
    "        self.exp_op = exp_op\n",
    "\n",
    "        self.weights = self.optimizer.parameters  # 待更新参数\n",
    "        self.grad = parameter_shift\n",
    "\n",
    "    def construct(self, *inputs):\n",
    "        inputs = inputs[0]\n",
    "        # 前向计算输出\n",
    "        circuit = join_circuit(circuit_encoder(inputs), circuit_ansatz(), self.weights[0])\n",
    "        loss = -1 * circuit.expval_pauli(self.exp_op)\n",
    "\n",
    "        # 用参数位移计算梯度\n",
    "        grads = self.grad(inputs, self.exp_op, self.weights[0])  # 进行反向传播，计算梯度\n",
    "        loss = ops.depend(loss, self.optimizer((Tensor(grads),)))  # 使用优化器更新梯度\n",
    "        return loss\n"
   ],
   "metadata": {
    "collapsed": false
   }
  },
  {
   "cell_type": "markdown",
   "source": [
    "# 训练"
   ],
   "metadata": {
    "collapsed": false
   }
  },
  {
   "cell_type": "code",
   "execution_count": 8,
   "outputs": [
    {
     "name": "stdout",
     "output_type": "stream",
     "text": [
      "0 :  0.7668047514370688\n",
      "10 :  0.5776929907628878\n",
      "20 :  0.3325678696719703\n",
      "30 :  0.04738609826396856\n",
      "40 :  -0.24636333350397138\n",
      "50 :  -0.5099832106240192\n",
      "60 :  -0.7137835980462199\n",
      "70 :  -0.8489997499702759\n",
      "80 :  -0.9263823281867517\n",
      "90 :  -0.9651338819493985\n",
      "100 :  -0.9826035771563745\n",
      "110 :  -0.9901325604038415\n",
      "120 :  -0.9936146493238158\n",
      "130 :  -0.9955699006879649\n",
      "140 :  -0.9968941273798805\n",
      "150 :  -0.9978613836927627\n",
      "160 :  -0.9985640171107846\n",
      "170 :  -0.9990584242598857\n",
      "180 :  -0.9993953109734033\n",
      "190 :  -0.9996189661066741\n"
     ]
    }
   ],
   "source": [
    "ITR = 200\n",
    "LR = 0.02\n",
    "enc_d = np.array([0.2, 0.3, 0.4])\n",
    "op = hamiltonian()\n",
    "opt = Adam([Parameter(Tensor(np.random.rand(2)), name=\"ansatz-theta\")], learning_rate=LR)\n",
    "\n",
    "train_net = CustomTrainOneStepCell(opt, op)\n",
    "\n",
    "loss_list = []\n",
    "for i in range(ITR):\n",
    "    res = train_net(Tensor(enc_d))\n",
    "    loss_list.append(res)\n",
    "    if i % 10 == 0:\n",
    "        print(i, \": \", res)"
   ],
   "metadata": {
    "collapsed": false
   }
  },
  {
   "cell_type": "markdown",
   "source": [
    "# 结果呈现"
   ],
   "metadata": {
    "collapsed": false
   }
  },
  {
   "cell_type": "code",
   "execution_count": 9,
   "outputs": [
    {
     "name": "stdout",
     "output_type": "stream",
     "text": [
      "final theta:  [ 2.19642544 -1.07710791]\n",
      "state:  [0.38983534-0.92082061j 0.0097964 +0.00467482j]\n",
      "fidelity :  0.999882176674514\n"
     ]
    }
   ],
   "source": [
    "ans_d = train_net.weights[0]\n",
    "print(\"final theta: \", ans_d.value())\n",
    "\n",
    "circ = join_circuit(circuit_encoder(enc_d), circuit_ansatz(), ans_d)\n",
    "state = circ.get_statevector()\n",
    "print(\"state: \", str(state))\n",
    "fid = np.abs(np.vdot(state, [1, 0])) ** 2\n",
    "print(\"fidelity\", \": \", fid)"
   ],
   "metadata": {
    "collapsed": false
   }
  },
  {
   "cell_type": "markdown",
   "source": [
    "# 损失曲线"
   ],
   "metadata": {
    "collapsed": false
   }
  },
  {
   "cell_type": "code",
   "execution_count": 10,
   "outputs": [
    {
     "data": {
      "text/plain": "<Figure size 640x480 with 1 Axes>",
      "image/png": "[encoded data removed]"
     },
     "metadata": {},
     "output_type": "display_data"
    }
   ],
   "source": [
    "plt.figure(1)\n",
    "ITR_list = []\n",
    "for i in range(ITR):\n",
    "    ITR_list.append(i)\n",
    "func = plt.plot(ITR_list, loss_list, alpha=0.7, marker='', linestyle='-', color='r')\n",
    "plt.xlabel('iterations')\n",
    "plt.ylabel('loss')\n",
    "plt.legend(labels=[\"loss function during iteration\"], loc='best')\n",
    "plt.show()"
   ],
   "metadata": {
    "collapsed": false
   }
  }
 ],
 "metadata": {
  "kernelspec": {
   "display_name": "Python 3",
   "language": "python",
   "name": "python3"
  },
  "language_info": {
   "codemirror_mode": {
    "name": "ipython",
    "version": 2
   },
   "file_extension": ".py",
   "mimetype": "text/x-python",
   "name": "python",
   "nbconvert_exporter": "python",
   "pygments_lexer": "ipython2",
   "version": "2.7.6"
  }
 },
 "nbformat": 4,
 "nbformat_minor": 0
}
