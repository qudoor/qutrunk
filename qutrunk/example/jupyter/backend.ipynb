{
 "cells": [
  {
   "cell_type": "markdown",
   "metadata": {},
   "source": [
    "通过QuSprout后端启用GPU计算"
   ]
  },
  {
   "cell_type": "code",
   "execution_count": 4,
   "metadata": {},
   "outputs": [
    {
     "name": "stdout",
     "output_type": "stream",
     "text": [
      "num_qubits: 10 num_elems: 1024 num_reps: 26\n",
      "target state: |166>\n",
      "prob of state |166> = 0.008766189217567406\n",
      "prob of state |166> = 0.02422384859551111\n",
      "prob of state |166> = 0.047108250571214524\n",
      "prob of state |166> = 0.07706217555206976\n",
      "prob of state |166> = 0.1136180505208738\n",
      "prob of state |166> = 0.15620524772962407\n",
      "prob of state |166> = 0.2041589920509928\n",
      "prob of state |166> = 0.2567307379460278\n",
      "prob of state |166> = 0.31309985406630053\n",
      "prob of state |166> = 0.37238643309688396\n",
      "prob of state |166> = 0.43366502688182906\n",
      "prob of state |166> = 0.4959790924303827\n",
      "prob of state |166> = 0.5583559233055302\n",
      "prob of state |166> = 0.6198218333197522\n",
      "prob of state |166> = 0.6794173555244317\n",
      "prob of state |166> = 0.7362122192406237\n",
      "prob of state |166> = 0.7893198713436073\n",
      "prob of state |166> = 0.8379113151277344\n",
      "prob of state |166> = 0.8812280507304697\n",
      "prob of state |166> = 0.9185939151189513\n",
      "prob of state |166> = 0.949425636819952\n",
      "prob of state |166> = 0.9732419406366319\n",
      "prob of state |166> = 0.9896710602298116\n",
      "prob of state |166> = 0.9984565412943175\n",
      "prob of state |166> = 0.9994612447443189\n",
      "prob of state |166> = 0.9926694874189682\n",
      "measure result: 166\n",
      "==================Counter==================\n",
      "Counter(quit=10)\n",
      "qubits = 10\n",
      "quantum_gates = 1424\n",
      "total_time = 0.8367509841918945\n",
      "qutrunk_time = 0.020293474197387695\n",
      "backend_time = 0.8164575099945068\n",
      "{\"backend\": \"BackendQuSprout-gpu\", \"task_id\": null, \"status\": \"success\", \"arguments\": {\"shots\": 1}}\n"
     ]
    },
    {
     "data": {
      "text/plain": [
       "QCircuit(10)"
      ]
     },
     "execution_count": 4,
     "metadata": {},
     "output_type": "execute_result"
    }
   ],
   "source": [
    "from qutrunk.circuit import QCircuit\n",
    "from qutrunk.example import grover\n",
    "from qutrunk.backends import BackendQuSprout\n",
    "from qutrunk.circuit.gates import H, CNOT, Measure\n",
    "\n",
    "# use BackendQuSprout\n",
    "backend=BackendQuSprout(run_mode='gpu', ip='192.168.171.89', port=9091)\n",
    "grover.run_grover(10, backend)"
   ]
  }
 ],
 "metadata": {
  "kernelspec": {
   "display_name": "Python 3.10.4 64-bit",
   "language": "python",
   "name": "python3"
  },
  "language_info": {
   "codemirror_mode": {
    "name": "ipython",
    "version": 3
   },
   "file_extension": ".py",
   "mimetype": "text/x-python",
   "name": "python",
   "nbconvert_exporter": "python",
   "pygments_lexer": "ipython3",
   "version": "3.10.4"
  },
  "orig_nbformat": 4,
  "vscode": {
   "interpreter": {
    "hash": "aee8b7b246df8f9039afb4144a1f6fd8d2ca17a180786b69acc140d282b71a49"
   }
  }
 },
 "nbformat": 4,
 "nbformat_minor": 2
}
